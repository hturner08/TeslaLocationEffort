{
 "cells": [
  {
   "cell_type": "markdown",
   "metadata": {},
   "source": [
    "# Introduction to Machine Learning\n",
    "This notebook will give you the basics needed to understand and run our models for this challenge, as well as build your own.\n",
    "## Important Libraries and frameworks\n",
    "Please install tensorflow, keras, and pandas to begin. Run the following commands from the command line: \"pip install tensorflow\", \"pip install keras\", and \"pip install pandas.\" Keras and tensorflow are the libraries we use to build our machine learning models. Pandas is an extremely useful and fast data analysis and storage library.\n",
    "## Given Models\n",
    "\n",
    "### Problem 2 \n",
    "\n",
    "### Problem 3 \n",
    "\n",
    "## Creating your own\n"
   ]
  }
 ],
 "metadata": {
  "kernelspec": {
   "display_name": "Python 3",
   "language": "python",
   "name": "python3"
  },
  "language_info": {
   "codemirror_mode": {
    "name": "ipython",
    "version": 3
   },
   "file_extension": ".py",
   "mimetype": "text/x-python",
   "name": "python",
   "nbconvert_exporter": "python",
   "pygments_lexer": "ipython3",
   "version": "3.7.3"
  }
 },
 "nbformat": 4,
 "nbformat_minor": 2
}
