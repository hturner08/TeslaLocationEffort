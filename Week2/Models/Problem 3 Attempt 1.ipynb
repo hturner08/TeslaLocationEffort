{
 "cells": [
  {
   "cell_type": "markdown",
   "metadata": {},
   "source": [
    "### Problem 3 \n",
    "The third data set provides a set of TLEs for Planet’s Flock 2B 5 satellite at a series of\n",
    "epochs. For this question, we’ll use regression methods to predict future BStar (drag)\n",
    "terms.\n",
    "1\n",
    "\n",
    "• Regress BStar on epoch. You choose your regression method(s). Use your results\n",
    "to predict future BStar terms for epoch 3/20/2019 19:23 to 5/19/2019 20:04,\n",
    "based on data from epochs 5/11/2018 19:56 to 3/20/2019 3:38. Assess how well\n",
    "your model fits the data. Plot your results.\n",
    "\n",
    "• Regress BStar on one or more of the numeric columns in the TLE file. \n",
    "\n",
    "Assess\n",
    "how well your regression method models the data. Use your results to predict\n",
    "future BStar terms for the same epochs as above. Assess how well your regression\n",
    "method models the data. Plot your results.\n",
    "Hint: Which orbital element(s) would you expect to be most closely associated\n",
    "with atmospheric drag?\n"
   ]
  },
  {
   "cell_type": "markdown",
   "metadata": {},
   "source": [
    "## Imports\n"
   ]
  },
  {
   "cell_type": "code",
   "execution_count": 35,
   "metadata": {},
   "outputs": [],
   "source": [
    "import tensorflow as tf\n",
    "import pandas as pd\n",
    "from sklearn import preprocessing\n",
    "import matplotlib.pyplot as plt \n",
    "plt.rc(\"font\", size=14)\n",
    "from sklearn.linear_model import LogisticRegression\n",
    "from sklearn.model_selection import train_test_split\n",
    "import matplotlib.pyplot as plt\n",
    "import matplotlib\n",
    "matplotlib.rcParams.update({'font.size': 12})\n",
    "from sklearn.linear_model import LinearRegression\n",
    "from sklearn.linear_model import Ridge\n",
    "from sklearn.metrics import mean_squared_error, r2_score\n",
    "\n"
   ]
  },
  {
   "cell_type": "markdown",
   "metadata": {},
   "source": [
    "## Data Parsing and Analysis"
   ]
  },
  {
   "cell_type": "code",
   "execution_count": 2,
   "metadata": {},
   "outputs": [],
   "source": [
    "df = pd.read_csv(\"../Data/Week2_Problem3.csv\")"
   ]
  },
  {
   "cell_type": "code",
   "execution_count": 3,
   "metadata": {},
   "outputs": [
    {
     "data": {
      "text/html": [
       "<div>\n",
       "<style scoped>\n",
       "    .dataframe tbody tr th:only-of-type {\n",
       "        vertical-align: middle;\n",
       "    }\n",
       "\n",
       "    .dataframe tbody tr th {\n",
       "        vertical-align: top;\n",
       "    }\n",
       "\n",
       "    .dataframe thead th {\n",
       "        text-align: right;\n",
       "    }\n",
       "</style>\n",
       "<table border=\"1\" class=\"dataframe\">\n",
       "  <thead>\n",
       "    <tr style=\"text-align: right;\">\n",
       "      <th></th>\n",
       "      <th>COMMENT</th>\n",
       "      <th>ORIGINATOR</th>\n",
       "      <th>NORAD_CAT_ID</th>\n",
       "      <th>OBJECT_NAME</th>\n",
       "      <th>OBJECT_TYPE</th>\n",
       "      <th>CLASSIFICATION_TYPE</th>\n",
       "      <th>INTLDES</th>\n",
       "      <th>EPOCH</th>\n",
       "      <th>EPOCH_MICROSECONDS</th>\n",
       "      <th>MEAN_MOTION</th>\n",
       "      <th>...</th>\n",
       "      <th>FILE</th>\n",
       "      <th>TLE_LINE0</th>\n",
       "      <th>TLE_LINE1</th>\n",
       "      <th>TLE_LINE2</th>\n",
       "      <th>OBJECT_ID</th>\n",
       "      <th>OBJECT_NUMBER</th>\n",
       "      <th>SEMIMAJOR_AXIS</th>\n",
       "      <th>PERIOD</th>\n",
       "      <th>APOGEE</th>\n",
       "      <th>PERIGEE</th>\n",
       "    </tr>\n",
       "  </thead>\n",
       "  <tbody>\n",
       "    <tr>\n",
       "      <th>0</th>\n",
       "      <td>GENERATED VIA SPACETRACK.ORG API</td>\n",
       "      <td>18 SPCS</td>\n",
       "      <td>41616</td>\n",
       "      <td>FLOCK 2P 5</td>\n",
       "      <td>PAYLOAD</td>\n",
       "      <td>U</td>\n",
       "      <td>16040T</td>\n",
       "      <td>5/11/2018 19:56</td>\n",
       "      <td>294304</td>\n",
       "      <td>15.242841</td>\n",
       "      <td>...</td>\n",
       "      <td>2283918</td>\n",
       "      <td>0 FLOCK 2P 5</td>\n",
       "      <td>1 41616U 16040T   18131.83058211  .00001576  0...</td>\n",
       "      <td>2 41616  97.4199 197.0357 0010712  19.7074 340...</td>\n",
       "      <td>2016-040T</td>\n",
       "      <td>41616</td>\n",
       "      <td>6871.072</td>\n",
       "      <td>94.47</td>\n",
       "      <td>500.298</td>\n",
       "      <td>485.577</td>\n",
       "    </tr>\n",
       "    <tr>\n",
       "      <th>1</th>\n",
       "      <td>GENERATED VIA SPACETRACK.ORG API</td>\n",
       "      <td>18 SPCS</td>\n",
       "      <td>41616</td>\n",
       "      <td>FLOCK 2P 5</td>\n",
       "      <td>PAYLOAD</td>\n",
       "      <td>U</td>\n",
       "      <td>16040T</td>\n",
       "      <td>5/11/2018 21:30</td>\n",
       "      <td>151904</td>\n",
       "      <td>15.242843</td>\n",
       "      <td>...</td>\n",
       "      <td>2283955</td>\n",
       "      <td>0 FLOCK 2P 5</td>\n",
       "      <td>1 41616U 16040T   18131.89622861 +.00001570 +0...</td>\n",
       "      <td>2 41616 097.4199 197.1007 0010702 019.4876 340...</td>\n",
       "      <td>2016-040T</td>\n",
       "      <td>41616</td>\n",
       "      <td>6871.072</td>\n",
       "      <td>94.47</td>\n",
       "      <td>500.290</td>\n",
       "      <td>485.583</td>\n",
       "    </tr>\n",
       "    <tr>\n",
       "      <th>2</th>\n",
       "      <td>GENERATED VIA SPACETRACK.ORG API</td>\n",
       "      <td>18 SPCS</td>\n",
       "      <td>41616</td>\n",
       "      <td>FLOCK 2P 5</td>\n",
       "      <td>PAYLOAD</td>\n",
       "      <td>U</td>\n",
       "      <td>16040T</td>\n",
       "      <td>5/12/2018 14:50</td>\n",
       "      <td>469728</td>\n",
       "      <td>15.242879</td>\n",
       "      <td>...</td>\n",
       "      <td>2284257</td>\n",
       "      <td>0 FLOCK 2P 5</td>\n",
       "      <td>1 41616U 16040T   18132.61833877 +.00001672 +0...</td>\n",
       "      <td>2 41616 097.4199 197.8157 0010632 017.0701 343...</td>\n",
       "      <td>2016-040T</td>\n",
       "      <td>41616</td>\n",
       "      <td>6871.061</td>\n",
       "      <td>94.47</td>\n",
       "      <td>500.231</td>\n",
       "      <td>485.621</td>\n",
       "    </tr>\n",
       "    <tr>\n",
       "      <th>3</th>\n",
       "      <td>GENERATED VIA SPACETRACK.ORG API</td>\n",
       "      <td>18 SPCS</td>\n",
       "      <td>41616</td>\n",
       "      <td>FLOCK 2P 5</td>\n",
       "      <td>PAYLOAD</td>\n",
       "      <td>U</td>\n",
       "      <td>16040T</td>\n",
       "      <td>5/12/2018 22:43</td>\n",
       "      <td>705888</td>\n",
       "      <td>15.242887</td>\n",
       "      <td>...</td>\n",
       "      <td>2284359</td>\n",
       "      <td>0 FLOCK 2P 5</td>\n",
       "      <td>1 41616U 16040T   18132.94657067 +.00001604 +0...</td>\n",
       "      <td>2 41616 097.4198 198.1406 0010594 015.9467 344...</td>\n",
       "      <td>2016-040T</td>\n",
       "      <td>41616</td>\n",
       "      <td>6871.059</td>\n",
       "      <td>94.47</td>\n",
       "      <td>500.203</td>\n",
       "      <td>485.644</td>\n",
       "    </tr>\n",
       "    <tr>\n",
       "      <th>4</th>\n",
       "      <td>GENERATED VIA SPACETRACK.ORG API</td>\n",
       "      <td>18 SPCS</td>\n",
       "      <td>41616</td>\n",
       "      <td>FLOCK 2P 5</td>\n",
       "      <td>PAYLOAD</td>\n",
       "      <td>U</td>\n",
       "      <td>16040T</td>\n",
       "      <td>5/13/2018 3:26</td>\n",
       "      <td>226848</td>\n",
       "      <td>15.242893</td>\n",
       "      <td>...</td>\n",
       "      <td>2284635</td>\n",
       "      <td>0 FLOCK 2P 5</td>\n",
       "      <td>1 41616U 16040T   18133.14350957 +.00001577 +0...</td>\n",
       "      <td>2 41616 097.4198 198.3356 0010575 015.2670 344...</td>\n",
       "      <td>2016-040T</td>\n",
       "      <td>41616</td>\n",
       "      <td>6871.057</td>\n",
       "      <td>94.47</td>\n",
       "      <td>500.188</td>\n",
       "      <td>485.656</td>\n",
       "    </tr>\n",
       "  </tbody>\n",
       "</table>\n",
       "<p>5 rows × 31 columns</p>\n",
       "</div>"
      ],
      "text/plain": [
       "                            COMMENT ORIGINATOR  NORAD_CAT_ID OBJECT_NAME  \\\n",
       "0  GENERATED VIA SPACETRACK.ORG API    18 SPCS         41616  FLOCK 2P 5   \n",
       "1  GENERATED VIA SPACETRACK.ORG API    18 SPCS         41616  FLOCK 2P 5   \n",
       "2  GENERATED VIA SPACETRACK.ORG API    18 SPCS         41616  FLOCK 2P 5   \n",
       "3  GENERATED VIA SPACETRACK.ORG API    18 SPCS         41616  FLOCK 2P 5   \n",
       "4  GENERATED VIA SPACETRACK.ORG API    18 SPCS         41616  FLOCK 2P 5   \n",
       "\n",
       "  OBJECT_TYPE CLASSIFICATION_TYPE INTLDES            EPOCH  \\\n",
       "0     PAYLOAD                   U  16040T  5/11/2018 19:56   \n",
       "1     PAYLOAD                   U  16040T  5/11/2018 21:30   \n",
       "2     PAYLOAD                   U  16040T  5/12/2018 14:50   \n",
       "3     PAYLOAD                   U  16040T  5/12/2018 22:43   \n",
       "4     PAYLOAD                   U  16040T   5/13/2018 3:26   \n",
       "\n",
       "   EPOCH_MICROSECONDS  MEAN_MOTION  ...     FILE     TLE_LINE0  \\\n",
       "0              294304    15.242841  ...  2283918  0 FLOCK 2P 5   \n",
       "1              151904    15.242843  ...  2283955  0 FLOCK 2P 5   \n",
       "2              469728    15.242879  ...  2284257  0 FLOCK 2P 5   \n",
       "3              705888    15.242887  ...  2284359  0 FLOCK 2P 5   \n",
       "4              226848    15.242893  ...  2284635  0 FLOCK 2P 5   \n",
       "\n",
       "                                           TLE_LINE1  \\\n",
       "0  1 41616U 16040T   18131.83058211  .00001576  0...   \n",
       "1  1 41616U 16040T   18131.89622861 +.00001570 +0...   \n",
       "2  1 41616U 16040T   18132.61833877 +.00001672 +0...   \n",
       "3  1 41616U 16040T   18132.94657067 +.00001604 +0...   \n",
       "4  1 41616U 16040T   18133.14350957 +.00001577 +0...   \n",
       "\n",
       "                                           TLE_LINE2  OBJECT_ID  \\\n",
       "0  2 41616  97.4199 197.0357 0010712  19.7074 340...  2016-040T   \n",
       "1  2 41616 097.4199 197.1007 0010702 019.4876 340...  2016-040T   \n",
       "2  2 41616 097.4199 197.8157 0010632 017.0701 343...  2016-040T   \n",
       "3  2 41616 097.4198 198.1406 0010594 015.9467 344...  2016-040T   \n",
       "4  2 41616 097.4198 198.3356 0010575 015.2670 344...  2016-040T   \n",
       "\n",
       "   OBJECT_NUMBER  SEMIMAJOR_AXIS  PERIOD   APOGEE  PERIGEE  \n",
       "0          41616        6871.072   94.47  500.298  485.577  \n",
       "1          41616        6871.072   94.47  500.290  485.583  \n",
       "2          41616        6871.061   94.47  500.231  485.621  \n",
       "3          41616        6871.059   94.47  500.203  485.644  \n",
       "4          41616        6871.057   94.47  500.188  485.656  \n",
       "\n",
       "[5 rows x 31 columns]"
      ]
     },
     "execution_count": 3,
     "metadata": {},
     "output_type": "execute_result"
    }
   ],
   "source": [
    "df.head()"
   ]
  },
  {
   "cell_type": "markdown",
   "metadata": {},
   "source": [
    "We can see the raw data above. Next, we'll work on transforming the epoch into an integer value, and removing the unnecessary 3 initial columns.(Satellite 41616)"
   ]
  },
  {
   "cell_type": "code",
   "execution_count": 4,
   "metadata": {},
   "outputs": [],
   "source": [
    "df = df.drop(columns=[\"COMMENT\",\"ORIGINATOR\",\"OBJECT_TYPE\",\"OBJECT_ID\",\n",
    "                      \"NORAD_CAT_ID\",\"OBJECT_NAME\",\"ELEMENT_SET_NO\",\"CLASSIFICATION_TYPE\",\n",
    "                      \"INTLDES\",\"FILE\",\"TLE_LINE0\",\"TLE_LINE1\",\"TLE_LINE2\",\"EPHEMERIS_TYPE\",\"EPOCH\"],axis=1)"
   ]
  },
  {
   "cell_type": "code",
   "execution_count": 5,
   "metadata": {},
   "outputs": [
    {
     "data": {
      "text/html": [
       "<div>\n",
       "<style scoped>\n",
       "    .dataframe tbody tr th:only-of-type {\n",
       "        vertical-align: middle;\n",
       "    }\n",
       "\n",
       "    .dataframe tbody tr th {\n",
       "        vertical-align: top;\n",
       "    }\n",
       "\n",
       "    .dataframe thead th {\n",
       "        text-align: right;\n",
       "    }\n",
       "</style>\n",
       "<table border=\"1\" class=\"dataframe\">\n",
       "  <thead>\n",
       "    <tr style=\"text-align: right;\">\n",
       "      <th></th>\n",
       "      <th>EPOCH_MICROSECONDS</th>\n",
       "      <th>MEAN_MOTION</th>\n",
       "      <th>ECCENTRICITY</th>\n",
       "      <th>INCLINATION</th>\n",
       "      <th>RA_OF_ASC_NODE</th>\n",
       "      <th>ARG_OF_PERICENTER</th>\n",
       "      <th>MEAN_ANOMALY</th>\n",
       "      <th>REV_AT_EPOCH</th>\n",
       "      <th>BSTAR</th>\n",
       "      <th>MEAN_MOTION_DOT</th>\n",
       "      <th>MEAN_MOTION_DDOT</th>\n",
       "      <th>OBJECT_NUMBER</th>\n",
       "      <th>SEMIMAJOR_AXIS</th>\n",
       "      <th>PERIOD</th>\n",
       "      <th>APOGEE</th>\n",
       "      <th>PERIGEE</th>\n",
       "    </tr>\n",
       "  </thead>\n",
       "  <tbody>\n",
       "    <tr>\n",
       "      <th>0</th>\n",
       "      <td>294304</td>\n",
       "      <td>15.242841</td>\n",
       "      <td>0.001071</td>\n",
       "      <td>97.4199</td>\n",
       "      <td>197.0357</td>\n",
       "      <td>19.7074</td>\n",
       "      <td>340.4576</td>\n",
       "      <td>10468</td>\n",
       "      <td>0.000067</td>\n",
       "      <td>0.000016</td>\n",
       "      <td>0</td>\n",
       "      <td>41616</td>\n",
       "      <td>6871.072</td>\n",
       "      <td>94.47</td>\n",
       "      <td>500.298</td>\n",
       "      <td>485.577</td>\n",
       "    </tr>\n",
       "    <tr>\n",
       "      <th>1</th>\n",
       "      <td>151904</td>\n",
       "      <td>15.242843</td>\n",
       "      <td>0.001070</td>\n",
       "      <td>97.4199</td>\n",
       "      <td>197.1007</td>\n",
       "      <td>19.4876</td>\n",
       "      <td>340.6768</td>\n",
       "      <td>10469</td>\n",
       "      <td>0.000067</td>\n",
       "      <td>0.000016</td>\n",
       "      <td>0</td>\n",
       "      <td>41616</td>\n",
       "      <td>6871.072</td>\n",
       "      <td>94.47</td>\n",
       "      <td>500.290</td>\n",
       "      <td>485.583</td>\n",
       "    </tr>\n",
       "    <tr>\n",
       "      <th>2</th>\n",
       "      <td>469728</td>\n",
       "      <td>15.242879</td>\n",
       "      <td>0.001063</td>\n",
       "      <td>97.4199</td>\n",
       "      <td>197.8157</td>\n",
       "      <td>17.0701</td>\n",
       "      <td>343.0892</td>\n",
       "      <td>10480</td>\n",
       "      <td>0.000071</td>\n",
       "      <td>0.000017</td>\n",
       "      <td>0</td>\n",
       "      <td>41616</td>\n",
       "      <td>6871.061</td>\n",
       "      <td>94.47</td>\n",
       "      <td>500.231</td>\n",
       "      <td>485.621</td>\n",
       "    </tr>\n",
       "    <tr>\n",
       "      <th>3</th>\n",
       "      <td>705888</td>\n",
       "      <td>15.242887</td>\n",
       "      <td>0.001059</td>\n",
       "      <td>97.4198</td>\n",
       "      <td>198.1406</td>\n",
       "      <td>15.9467</td>\n",
       "      <td>344.2102</td>\n",
       "      <td>10485</td>\n",
       "      <td>0.000069</td>\n",
       "      <td>0.000016</td>\n",
       "      <td>0</td>\n",
       "      <td>41616</td>\n",
       "      <td>6871.059</td>\n",
       "      <td>94.47</td>\n",
       "      <td>500.203</td>\n",
       "      <td>485.644</td>\n",
       "    </tr>\n",
       "    <tr>\n",
       "      <th>4</th>\n",
       "      <td>226848</td>\n",
       "      <td>15.242893</td>\n",
       "      <td>0.001057</td>\n",
       "      <td>97.4198</td>\n",
       "      <td>198.3356</td>\n",
       "      <td>15.2670</td>\n",
       "      <td>344.8884</td>\n",
       "      <td>10488</td>\n",
       "      <td>0.000067</td>\n",
       "      <td>0.000016</td>\n",
       "      <td>0</td>\n",
       "      <td>41616</td>\n",
       "      <td>6871.057</td>\n",
       "      <td>94.47</td>\n",
       "      <td>500.188</td>\n",
       "      <td>485.656</td>\n",
       "    </tr>\n",
       "  </tbody>\n",
       "</table>\n",
       "</div>"
      ],
      "text/plain": [
       "   EPOCH_MICROSECONDS  MEAN_MOTION  ECCENTRICITY  INCLINATION  RA_OF_ASC_NODE  \\\n",
       "0              294304    15.242841      0.001071      97.4199        197.0357   \n",
       "1              151904    15.242843      0.001070      97.4199        197.1007   \n",
       "2              469728    15.242879      0.001063      97.4199        197.8157   \n",
       "3              705888    15.242887      0.001059      97.4198        198.1406   \n",
       "4              226848    15.242893      0.001057      97.4198        198.3356   \n",
       "\n",
       "   ARG_OF_PERICENTER  MEAN_ANOMALY  REV_AT_EPOCH     BSTAR  MEAN_MOTION_DOT  \\\n",
       "0            19.7074      340.4576         10468  0.000067         0.000016   \n",
       "1            19.4876      340.6768         10469  0.000067         0.000016   \n",
       "2            17.0701      343.0892         10480  0.000071         0.000017   \n",
       "3            15.9467      344.2102         10485  0.000069         0.000016   \n",
       "4            15.2670      344.8884         10488  0.000067         0.000016   \n",
       "\n",
       "   MEAN_MOTION_DDOT  OBJECT_NUMBER  SEMIMAJOR_AXIS  PERIOD   APOGEE  PERIGEE  \n",
       "0                 0          41616        6871.072   94.47  500.298  485.577  \n",
       "1                 0          41616        6871.072   94.47  500.290  485.583  \n",
       "2                 0          41616        6871.061   94.47  500.231  485.621  \n",
       "3                 0          41616        6871.059   94.47  500.203  485.644  \n",
       "4                 0          41616        6871.057   94.47  500.188  485.656  "
      ]
     },
     "execution_count": 5,
     "metadata": {},
     "output_type": "execute_result"
    }
   ],
   "source": [
    "df.head()\n",
    "# x_train = df.iloc[]"
   ]
  },
  {
   "cell_type": "code",
   "execution_count": 105,
   "metadata": {},
   "outputs": [],
   "source": [
    "train=df.sample(frac=0.6,random_state=200) #random state is a seed value\n",
    "test=df.drop(train.index)"
   ]
  },
  {
   "cell_type": "code",
   "execution_count": 113,
   "metadata": {},
   "outputs": [],
   "source": [
    "xtrain = train.drop(columns=[\"BSTAR\"],axis=1)\n",
    "ytrain = train[\"BSTAR\"]\n",
    "xtest = test.drop(columns=[\"BSTAR\"],axis=1)\n",
    "ytest = test[\"BSTAR\"]\n",
    "\n",
    "x_train = train.drop(columns=[\"BSTAR\"],axis=1).to_numpy()\n",
    "y_train = train[\"BSTAR\"].to_numpy()\n",
    "x_test = test.drop(columns=[\"BSTAR\"],axis=1).to_numpy()\n",
    "y_test = test[\"BSTAR\"].to_numpy()\n",
    "\n",
    "# x_train = preprocessing.scale(x_train)\n",
    "# y_train = preprocessing.scale(y_train)#.reshape(-1,1)\n",
    "# x_test = preprocessing.scale(x_test)\n",
    "# y_test = preprocessing.scale(y_test)"
   ]
  },
  {
   "cell_type": "markdown",
   "metadata": {},
   "source": [
    "Attempting linear and ridge regression using sklearn instead"
   ]
  },
  {
   "cell_type": "code",
   "execution_count": 114,
   "metadata": {},
   "outputs": [
    {
     "name": "stdout",
     "output_type": "stream",
     "text": [
      "linear regression train score: 0.9998640213810434\n",
      "linear regression test score: 0.9998863797965678\n",
      "ridge regression train score low alpha: 0.3025437175941673\n",
      "ridge regression test score low alpha: 0.3741412551947345\n",
      "ridge regression train score high alpha: 0.20499510422579856\n",
      "ridge regression test score high alpha: 0.27273570155567217\n"
     ]
    },
    {
     "data": {
      "image/png": "[encoded data removed]",
      "text/plain": [
       "<Figure size 432x288 with 1 Axes>"
      ]
     },
     "metadata": {
      "needs_background": "light"
     },
     "output_type": "display_data"
    }
   ],
   "source": [
    "lr = LinearRegression()\n",
    "lr.fit(x_train, y_train)\n",
    "rr = Ridge(alpha=.01) \n",
    "rr.fit(x_train, y_train)\n",
    "rr100 = Ridge(alpha=10)\n",
    "rr100.fit(x_train, y_train)\n",
    "train_score=lr.score(x_train, y_train)\n",
    "test_score=r2_score(y_test, lr.predict(x_test))\n",
    "Ridge_train_score = rr.score(x_train,y_train)\n",
    "Ridge_test_score = rr.score(x_test, y_test)\n",
    "Ridge_train_score100 = rr100.score(x_train,y_train)\n",
    "Ridge_test_score100 = rr100.score(x_test, y_test)\n",
    "print(\"linear regression train score:\", train_score)\n",
    "print(\"linear regression test score:\", test_score)\n",
    "print(\"ridge regression train score low alpha:\", Ridge_train_score)\n",
    "print(\"ridge regression test score low alpha:\", Ridge_test_score)\n",
    "print(\"ridge regression train score high alpha:\", Ridge_train_score100)\n",
    "print(\"ridge regression test score high alpha:\", Ridge_test_score100)\n",
    "plt.plot(rr.coef_,alpha=0.7,linestyle='none',marker='*',markersize=5,color='red',label=r'Ridge; $\\alpha = 0.01$',zorder=7) # zorder for ordering the markers\n",
    "plt.plot(rr100.coef_,alpha=0.5,linestyle='none',marker='d',markersize=6,color='blue',label=r'Ridge; $\\alpha = 10$') # alpha here is for transparency\n",
    "plt.plot(lr.coef_,alpha=0.4,linestyle='none',marker='o',markersize=7,color='green',label='Linear Regression')\n",
    "plt.xlabel('Coefficient Index',fontsize=16)\n",
    "plt.ylabel('Coefficient Magnitude',fontsize=16)\n",
    "plt.legend(fontsize=13,loc=4)\n",
    "plt.show()"
   ]
  },
  {
   "cell_type": "code",
   "execution_count": 108,
   "metadata": {},
   "outputs": [
    {
     "name": "stdout",
     "output_type": "stream",
     "text": [
      "MEAN_MOTION ECCENTRICITY ARG_OF_PERICENTER MEAN_ANOMALY MEAN_MOTION_DOT PERIOD PERIGEE\n"
     ]
    }
   ],
   "source": [
    "print(xtrain.columns[1],xtrain.columns[2],xtrain.columns[5],xtrain.columns[6],xtrain.columns[8],xtrain.columns[12],xtrain.columns[14])"
   ]
  },
  {
   "cell_type": "code",
   "execution_count": 117,
   "metadata": {},
   "outputs": [
    {
     "data": {
      "text/plain": [
       "[<matplotlib.lines.Line2D at 0x1c1e686a978>]"
      ]
     },
     "execution_count": 117,
     "metadata": {},
     "output_type": "execute_result"
    },
    {
     "data": {
      "image/png": "[encoded data removed]",
      "text/plain": [
       "<Figure size 432x288 with 1 Axes>"
      ]
     },
     "metadata": {
      "needs_background": "light"
     },
     "output_type": "display_data"
    },
    {
     "data": {
      "image/png": "[encoded data removed]",
      "text/plain": [
       "<Figure size 432x288 with 1 Axes>"
      ]
     },
     "metadata": {
      "needs_background": "light"
     },
     "output_type": "display_data"
    },
    {
     "data": {
      "image/png": "[encoded data removed]",
      "text/plain": [
       "<Figure size 432x288 with 1 Axes>"
      ]
     },
     "metadata": {
      "needs_background": "light"
     },
     "output_type": "display_data"
    }
   ],
   "source": [
    "plt.figure()\n",
    "plt.scatter(xtrain[\"MEAN_MOTION_DOT\"].to_numpy(),ytrain.to_numpy())\n",
    "pred = lr.predict(x_test)\n",
    "plt.xlim(0,.00004)\n",
    "plt.ylim(0,.00015)\n",
    "plt.xlabel(\"Mean Motion\")\n",
    "plt.ylabel(\"Bstar\")\n",
    "plt.figure()\n",
    "plt.xlabel(\"Eccentricity\")\n",
    "plt.ylabel(\"Bstar\")\n",
    "plt.scatter(xtrain[\"ECCENTRICITY\"].to_numpy(),ytrain.to_numpy())\n",
    "plt.xlim(.0008,.0015)\n",
    "plt.ylim(0,.00015)\n",
    "plt.figure()\n",
    "plt.xlabel(\"Array Index\")\n",
    "plt.ylabel(\"Bstar\")\n",
    "plt.plot(pred,marker='o')\n",
    "plt.plot(y_test,marker='*')"
   ]
  }
 ],
 "metadata": {
  "kernelspec": {
   "display_name": "Python 3",
   "language": "python",
   "name": "python3"
  },
  "language_info": {
   "codemirror_mode": {
    "name": "ipython",
    "version": 3
   },
   "file_extension": ".py",
   "mimetype": "text/x-python",
   "name": "python",
   "nbconvert_exporter": "python",
   "pygments_lexer": "ipython3",
   "version": "3.7.3"
  }
 },
 "nbformat": 4,
 "nbformat_minor": 2
}
