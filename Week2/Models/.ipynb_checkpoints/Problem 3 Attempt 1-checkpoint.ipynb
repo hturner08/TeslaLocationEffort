{
 "cells": [
  {
   "cell_type": "markdown",
   "metadata": {},
   "source": [
    "### Problem 3 \n",
    "The third data set provides a set of TLEs for Planet’s Flock 2B 5 satellite at a series of\n",
    "epochs. For this question, we’ll use regression methods to predict future BStar (drag)\n",
    "terms.\n",
    "1\n",
    "• Regress BStar on epoch. You choose your regression method(s). Use your results\n",
    "to predict future BStar terms for epoch 3/20/2019 19:23 to 5/19/2019 20:04,\n",
    "based on data from epochs 5/11/2018 19:56 to 3/20/2019 3:38. Assess how well\n",
    "your model fits the data. Plot your results.\n",
    "• Regress BStar on one or more of the numeric columns in the TLE file. Assess\n",
    "how well your regression method models the data. Use your results to predict\n",
    "future BStar terms for the same epochs as above. Assess how well your regression\n",
    "method models the data. Plot your results.\n",
    "Hint: Which orbital element(s) would you expect to be most closely associated\n",
    "with atmospheric drag?\n"
   ]
  },
  {
   "cell_type": "markdown",
   "metadata": {},
   "source": [
    "## Imports\n"
   ]
  },
  {
   "cell_type": "code",
   "execution_count": 1,
   "metadata": {},
   "outputs": [
    {
     "ename": "ModuleNotFoundError",
     "evalue": "No module named 'tensorflow'",
     "output_type": "error",
     "traceback": [
      "\u001b[1;31m---------------------------------------------------------------------------\u001b[0m",
      "\u001b[1;31mModuleNotFoundError\u001b[0m                       Traceback (most recent call last)",
      "\u001b[1;32m<ipython-input-1-b43a7448af40>\u001b[0m in \u001b[0;36m<module>\u001b[1;34m\u001b[0m\n\u001b[1;32m----> 1\u001b[1;33m \u001b[1;32mimport\u001b[0m \u001b[0mtensorflow\u001b[0m \u001b[1;32mas\u001b[0m \u001b[0mtf\u001b[0m\u001b[1;33m\u001b[0m\u001b[1;33m\u001b[0m\u001b[0m\n\u001b[0m\u001b[0;32m      2\u001b[0m \u001b[1;32mimport\u001b[0m \u001b[0mkeras\u001b[0m\u001b[1;33m\u001b[0m\u001b[1;33m\u001b[0m\u001b[0m\n",
      "\u001b[1;31mModuleNotFoundError\u001b[0m: No module named 'tensorflow'"
     ]
    }
   ],
   "source": [
    "import tensorflow as tf\n",
    "import keras"
   ]
  }
 ],
 "metadata": {
  "kernelspec": {
   "display_name": "Python 3",
   "language": "python",
   "name": "python3"
  },
  "language_info": {
   "codemirror_mode": {
    "name": "ipython",
    "version": 3
   },
   "file_extension": ".py",
   "mimetype": "text/x-python",
   "name": "python",
   "nbconvert_exporter": "python",
   "pygments_lexer": "ipython3",
   "version": "3.7.3"
  }
 },
 "nbformat": 4,
 "nbformat_minor": 2
}
