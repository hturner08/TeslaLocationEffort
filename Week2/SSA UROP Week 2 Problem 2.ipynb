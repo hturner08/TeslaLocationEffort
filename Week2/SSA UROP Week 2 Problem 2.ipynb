{
 "cells": [
  {
   "cell_type": "code",
   "execution_count": 5,
   "metadata": {},
   "outputs": [],
   "source": [
    "import pandas as pd\n",
    "import numpy as np\n",
    "import matplotlib.pyplot as plt\n",
    "%matplotlib inline"
   ]
  },
  {
   "cell_type": "code",
   "execution_count": 6,
   "metadata": {},
   "outputs": [],
   "source": [
    "dataset = pd.read_csv(\"C:\\\\Users\\kerri\\Downloads\\Week2_Problem2.csv\")"
   ]
  },
  {
   "cell_type": "code",
   "execution_count": 7,
   "metadata": {},
   "outputs": [],
   "source": [
    "from sklearn import compose\n",
    "from sklearn import preprocessing"
   ]
  },
  {
   "cell_type": "code",
   "execution_count": 8,
   "metadata": {},
   "outputs": [],
   "source": [
    "# preprocess the data by encoding the categorical Class of Orbit feature as a one-hot vector \n",
    "# and scaling the numerical features to standardize them\n",
    "preprocess = compose.make_column_transformer(\n",
    "    (preprocessing.OneHotEncoder(), ['Class of Orbit']),\n",
    "    (preprocessing.StandardScaler(), ['Perigee (km)', 'Apogee (km)', 'Eccentricity', 'Inclination (degrees)', 'Period (minutes)']),\n",
    ")"
   ]
  },
  {
   "cell_type": "code",
   "execution_count": 9,
   "metadata": {},
   "outputs": [],
   "source": [
    "dataset_final = pd.DataFrame(preprocess.fit_transform(dataset))"
   ]
  },
  {
   "cell_type": "code",
   "execution_count": 10,
   "metadata": {},
   "outputs": [],
   "source": [
    "# create input matrix x and output matrix y\n",
    "x = dataset_final.iloc[:, 4:9]\n",
    "y = dataset_final.iloc[:, 0:4]"
   ]
  },
  {
   "cell_type": "code",
   "execution_count": 15,
   "metadata": {},
   "outputs": [],
   "source": [
    "# split the data into a test-train split\n",
    "from sklearn.model_selection import train_test_split\n",
    "x_train, x_test, y_train, y_test = train_test_split(x, y, test_size = 0.2)"
   ]
  },
  {
   "cell_type": "code",
   "execution_count": 12,
   "metadata": {},
   "outputs": [],
   "source": [
    "import tensorflow as tf"
   ]
  },
  {
   "cell_type": "code",
   "execution_count": 13,
   "metadata": {},
   "outputs": [],
   "source": [
    "# create a neural network with one hidden layer \n",
    "classifier = Sequential()\n",
    "#hidden layer\n",
    "classifier.add(Dense(8, activation = 'relu',\n",
    "                    kernel_initializer = 'random_normal', input_dim = 5))\n",
    "\n",
    "#output layer\n",
    "classifier.add(Dense(4, activation = 'softmax',\n",
    "                    kernel_initializer = 'random_normal'))"
   ]
  },
  {
   "cell_type": "code",
   "execution_count": 14,
   "metadata": {},
   "outputs": [],
   "source": [
    "classifier.compile(optimizer = 'adam', loss = 'categorical_crossentropy', metrics = ['accuracy'])"
   ]
  },
  {
   "cell_type": "code",
   "execution_count": 20,
   "metadata": {},
   "outputs": [
    {
     "name": "stdout",
     "output_type": "stream",
     "text": [
      "Epoch 1/100\n",
      "1649/1649 [==============================] - 0s 143us/step - loss: 1.0814 - accuracy: 0.9018\n",
      "Epoch 2/100\n",
      "1649/1649 [==============================] - 0s 60us/step - loss: 0.3680 - accuracy: 0.9206\n",
      "Epoch 3/100\n",
      "1649/1649 [==============================] - 0s 57us/step - loss: 0.2138 - accuracy: 0.9297\n",
      "Epoch 4/100\n",
      "1649/1649 [==============================] - 0s 57us/step - loss: 0.1710 - accuracy: 0.9309\n",
      "Epoch 5/100\n",
      "1649/1649 [==============================] - 0s 61us/step - loss: 0.1488 - accuracy: 0.9327\n",
      "Epoch 6/100\n",
      "1649/1649 [==============================] - 0s 61us/step - loss: 0.1344 - accuracy: 0.9327\n",
      "Epoch 7/100\n",
      "1649/1649 [==============================] - 0s 59us/step - loss: 0.1237 - accuracy: 0.9333\n",
      "Epoch 8/100\n",
      "1649/1649 [==============================] - 0s 56us/step - loss: 0.1148 - accuracy: 0.9333\n",
      "Epoch 9/100\n",
      "1649/1649 [==============================] - 0s 57us/step - loss: 0.1061 - accuracy: 0.9375\n",
      "Epoch 10/100\n",
      "1649/1649 [==============================] - 0s 56us/step - loss: 0.0975 - accuracy: 0.9497\n",
      "Epoch 11/100\n",
      "1649/1649 [==============================] - 0s 54us/step - loss: 0.0893 - accuracy: 0.9509\n",
      "Epoch 12/100\n",
      "1649/1649 [==============================] - 0s 56us/step - loss: 0.0811 - accuracy: 0.9715\n",
      "Epoch 13/100\n",
      "1649/1649 [==============================] - 0s 61us/step - loss: 0.0730 - accuracy: 0.9897\n",
      "Epoch 14/100\n",
      "1649/1649 [==============================] - 0s 59us/step - loss: 0.0656 - accuracy: 0.9970\n",
      "Epoch 15/100\n",
      "1649/1649 [==============================] - 0s 58us/step - loss: 0.0584 - accuracy: 0.9970\n",
      "Epoch 16/100\n",
      "1649/1649 [==============================] - 0s 58us/step - loss: 0.0521 - accuracy: 0.9970\n",
      "Epoch 17/100\n",
      "1649/1649 [==============================] - 0s 57us/step - loss: 0.0465 - accuracy: 0.9976\n",
      "Epoch 18/100\n",
      "1649/1649 [==============================] - 0s 58us/step - loss: 0.0418 - accuracy: 0.9976\n",
      "Epoch 19/100\n",
      "1649/1649 [==============================] - 0s 59us/step - loss: 0.0377 - accuracy: 0.9976\n",
      "Epoch 20/100\n",
      "1649/1649 [==============================] - ETA: 0s - loss: 0.0389 - accuracy: 0.99 - 0s 57us/step - loss: 0.0346 - accuracy: 0.9976\n",
      "Epoch 21/100\n",
      "1649/1649 [==============================] - 0s 57us/step - loss: 0.0319 - accuracy: 0.9976\n",
      "Epoch 22/100\n",
      "1649/1649 [==============================] - 0s 60us/step - loss: 0.0295 - accuracy: 0.9976\n",
      "Epoch 23/100\n",
      "1649/1649 [==============================] - 0s 59us/step - loss: 0.0276 - accuracy: 0.9976\n",
      "Epoch 24/100\n",
      "1649/1649 [==============================] - 0s 57us/step - loss: 0.0260 - accuracy: 0.9976\n",
      "Epoch 25/100\n",
      "1649/1649 [==============================] - 0s 61us/step - loss: 0.0246 - accuracy: 0.9976\n",
      "Epoch 26/100\n",
      "1649/1649 [==============================] - 0s 58us/step - loss: 0.0236 - accuracy: 0.9976\n",
      "Epoch 27/100\n",
      "1649/1649 [==============================] - 0s 59us/step - loss: 0.0225 - accuracy: 0.9976\n",
      "Epoch 28/100\n",
      "1649/1649 [==============================] - 0s 60us/step - loss: 0.0216 - accuracy: 0.9976\n",
      "Epoch 29/100\n",
      "1649/1649 [==============================] - 0s 57us/step - loss: 0.0208 - accuracy: 0.9976\n",
      "Epoch 30/100\n",
      "1649/1649 [==============================] - 0s 59us/step - loss: 0.0201 - accuracy: 0.9976\n",
      "Epoch 31/100\n",
      "1649/1649 [==============================] - ETA: 0s - loss: 0.0170 - accuracy: 0.99 - 0s 57us/step - loss: 0.0196 - accuracy: 0.9976\n",
      "Epoch 32/100\n",
      "1649/1649 [==============================] - 0s 59us/step - loss: 0.0189 - accuracy: 0.9976\n",
      "Epoch 33/100\n",
      "1649/1649 [==============================] - 0s 59us/step - loss: 0.0184 - accuracy: 0.9976\n",
      "Epoch 34/100\n",
      "1649/1649 [==============================] - 0s 57us/step - loss: 0.0179 - accuracy: 0.9976\n",
      "Epoch 35/100\n",
      "1649/1649 [==============================] - 0s 57us/step - loss: 0.0175 - accuracy: 0.9976\n",
      "Epoch 36/100\n",
      "1649/1649 [==============================] - 0s 59us/step - loss: 0.0172 - accuracy: 0.9976\n",
      "Epoch 37/100\n",
      "1649/1649 [==============================] - 0s 59us/step - loss: 0.0168 - accuracy: 0.9976\n",
      "Epoch 38/100\n",
      "1649/1649 [==============================] - 0s 56us/step - loss: 0.0167 - accuracy: 0.9976\n",
      "Epoch 39/100\n",
      "1649/1649 [==============================] - 0s 59us/step - loss: 0.0162 - accuracy: 0.9976\n",
      "Epoch 40/100\n",
      "1649/1649 [==============================] - 0s 57us/step - loss: 0.0159 - accuracy: 0.9976\n",
      "Epoch 41/100\n",
      "1649/1649 [==============================] - 0s 57us/step - loss: 0.0157 - accuracy: 0.9976\n",
      "Epoch 42/100\n",
      "1649/1649 [==============================] - 0s 59us/step - loss: 0.0155 - accuracy: 0.9976\n",
      "Epoch 43/100\n",
      "1649/1649 [==============================] - 0s 57us/step - loss: 0.0153 - accuracy: 0.9976\n",
      "Epoch 44/100\n",
      "1649/1649 [==============================] - 0s 58us/step - loss: 0.0150 - accuracy: 0.9976\n",
      "Epoch 45/100\n",
      "1649/1649 [==============================] - 0s 59us/step - loss: 0.0149 - accuracy: 0.9976 0s - loss: 0.0110 - accuracy: 0.99\n",
      "Epoch 46/100\n",
      "1649/1649 [==============================] - 0s 59us/step - loss: 0.0147 - accuracy: 0.9976\n",
      "Epoch 47/100\n",
      "1649/1649 [==============================] - 0s 57us/step - loss: 0.0145 - accuracy: 0.9982\n",
      "Epoch 48/100\n",
      "1649/1649 [==============================] - 0s 59us/step - loss: 0.0143 - accuracy: 0.9982 0s - loss: 0.0109 - accuracy: 0.99\n",
      "Epoch 49/100\n",
      "1649/1649 [==============================] - 0s 59us/step - loss: 0.0142 - accuracy: 0.9982\n",
      "Epoch 50/100\n",
      "1649/1649 [==============================] - 0s 61us/step - loss: 0.0141 - accuracy: 0.9982\n",
      "Epoch 51/100\n",
      "1649/1649 [==============================] - 0s 61us/step - loss: 0.0139 - accuracy: 0.9982\n",
      "Epoch 52/100\n",
      "1649/1649 [==============================] - 0s 60us/step - loss: 0.0138 - accuracy: 0.9982\n",
      "Epoch 53/100\n",
      "1649/1649 [==============================] - 0s 60us/step - loss: 0.0137 - accuracy: 0.9982\n",
      "Epoch 54/100\n",
      "1649/1649 [==============================] - 0s 59us/step - loss: 0.0136 - accuracy: 0.9982\n",
      "Epoch 55/100\n",
      "1649/1649 [==============================] - 0s 56us/step - loss: 0.0135 - accuracy: 0.9982\n",
      "Epoch 56/100\n",
      "1649/1649 [==============================] - 0s 60us/step - loss: 0.0134 - accuracy: 0.9982\n",
      "Epoch 57/100\n",
      "1649/1649 [==============================] - 0s 57us/step - loss: 0.0133 - accuracy: 0.9982\n",
      "Epoch 58/100\n",
      "1649/1649 [==============================] - 0s 57us/step - loss: 0.0132 - accuracy: 0.9982\n",
      "Epoch 59/100\n",
      "1649/1649 [==============================] - 0s 57us/step - loss: 0.0132 - accuracy: 0.9982\n",
      "Epoch 60/100\n",
      "1649/1649 [==============================] - 0s 68us/step - loss: 0.0130 - accuracy: 0.9982\n",
      "Epoch 61/100\n",
      "1649/1649 [==============================] - 0s 59us/step - loss: 0.0130 - accuracy: 0.9982\n",
      "Epoch 62/100\n",
      "1649/1649 [==============================] - 0s 61us/step - loss: 0.0130 - accuracy: 0.9982\n",
      "Epoch 63/100\n",
      "1649/1649 [==============================] - 0s 58us/step - loss: 0.0130 - accuracy: 0.9982\n",
      "Epoch 64/100\n",
      "1649/1649 [==============================] - 0s 59us/step - loss: 0.0128 - accuracy: 0.9982\n",
      "Epoch 65/100\n",
      "1649/1649 [==============================] - 0s 57us/step - loss: 0.0128 - accuracy: 0.9982\n",
      "Epoch 66/100\n",
      "1649/1649 [==============================] - 0s 58us/step - loss: 0.0127 - accuracy: 0.9982\n",
      "Epoch 67/100\n",
      "1649/1649 [==============================] - 0s 62us/step - loss: 0.0127 - accuracy: 0.9982\n",
      "Epoch 68/100\n",
      "1649/1649 [==============================] - 0s 57us/step - loss: 0.0126 - accuracy: 0.9982\n",
      "Epoch 69/100\n",
      "1649/1649 [==============================] - ETA: 0s - loss: 0.0154 - accuracy: 0.9978   - 0s 58us/step - loss: 0.0127 - accuracy: 0.9982\n",
      "Epoch 70/100\n",
      "1649/1649 [==============================] - 0s 60us/step - loss: 0.0126 - accuracy: 0.9982\n",
      "Epoch 71/100\n",
      "1649/1649 [==============================] - 0s 57us/step - loss: 0.0125 - accuracy: 0.9982\n",
      "Epoch 72/100\n",
      "1649/1649 [==============================] - 0s 56us/step - loss: 0.0125 - accuracy: 0.9982\n",
      "Epoch 73/100\n",
      "1649/1649 [==============================] - 0s 60us/step - loss: 0.0125 - accuracy: 0.9982\n",
      "Epoch 74/100\n",
      "1649/1649 [==============================] - 0s 58us/step - loss: 0.0125 - accuracy: 0.9982\n",
      "Epoch 75/100\n",
      "1649/1649 [==============================] - 0s 60us/step - loss: 0.0124 - accuracy: 0.9982\n",
      "Epoch 76/100\n",
      "1649/1649 [==============================] - 0s 60us/step - loss: 0.0124 - accuracy: 0.9982 0s - loss: 0.0205 - accuracy: 0.99\n",
      "Epoch 77/100\n",
      "1649/1649 [==============================] - 0s 57us/step - loss: 0.0123 - accuracy: 0.9982\n",
      "Epoch 78/100\n",
      "1649/1649 [==============================] - 0s 59us/step - loss: 0.0123 - accuracy: 0.9982\n",
      "Epoch 79/100\n",
      "1649/1649 [==============================] - 0s 57us/step - loss: 0.0122 - accuracy: 0.9982\n",
      "Epoch 80/100\n",
      "1649/1649 [==============================] - ETA: 0s - loss: 0.0150 - accuracy: 0.99 - 0s 57us/step - loss: 0.0122 - accuracy: 0.9982\n",
      "Epoch 81/100\n",
      "1649/1649 [==============================] - ETA: 0s - loss: 0.0021 - accuracy: 1.00 - 0s 57us/step - loss: 0.0122 - accuracy: 0.9982\n",
      "Epoch 82/100\n",
      "1649/1649 [==============================] - 0s 57us/step - loss: 0.0122 - accuracy: 0.9982\n",
      "Epoch 83/100\n",
      "1649/1649 [==============================] - 0s 56us/step - loss: 0.0122 - accuracy: 0.9982\n",
      "Epoch 84/100\n",
      "1649/1649 [==============================] - 0s 58us/step - loss: 0.0121 - accuracy: 0.9982\n",
      "Epoch 85/100\n",
      "1649/1649 [==============================] - 0s 56us/step - loss: 0.0120 - accuracy: 0.9982\n",
      "Epoch 86/100\n",
      "1649/1649 [==============================] - 0s 57us/step - loss: 0.0120 - accuracy: 0.9982\n",
      "Epoch 87/100\n",
      "1649/1649 [==============================] - 0s 57us/step - loss: 0.0120 - accuracy: 0.9982\n",
      "Epoch 88/100\n",
      "1649/1649 [==============================] - 0s 57us/step - loss: 0.0119 - accuracy: 0.9982ETA: 0s - loss: 0.0141 - accuracy: 0.9978  \n",
      "Epoch 89/100\n",
      "1649/1649 [==============================] - 0s 58us/step - loss: 0.0119 - accuracy: 0.9982\n",
      "Epoch 90/100\n",
      "1649/1649 [==============================] - 0s 56us/step - loss: 0.0119 - accuracy: 0.9982\n",
      "Epoch 91/100\n",
      "1649/1649 [==============================] - 0s 58us/step - loss: 0.0119 - accuracy: 0.9982\n",
      "Epoch 92/100\n",
      "1649/1649 [==============================] - 0s 58us/step - loss: 0.0119 - accuracy: 0.9982\n",
      "Epoch 93/100\n",
      "1649/1649 [==============================] - 0s 59us/step - loss: 0.0118 - accuracy: 0.9982\n",
      "Epoch 94/100\n",
      "1649/1649 [==============================] - 0s 59us/step - loss: 0.0118 - accuracy: 0.9982\n",
      "Epoch 95/100\n",
      "1649/1649 [==============================] - 0s 58us/step - loss: 0.0119 - accuracy: 0.9982\n",
      "Epoch 96/100\n",
      "1649/1649 [==============================] - 0s 59us/step - loss: 0.0118 - accuracy: 0.9982\n",
      "Epoch 97/100\n",
      "1649/1649 [==============================] - 0s 59us/step - loss: 0.0117 - accuracy: 0.9982\n",
      "Epoch 98/100\n",
      "1649/1649 [==============================] - 0s 60us/step - loss: 0.0117 - accuracy: 0.9982\n",
      "Epoch 99/100\n",
      "1649/1649 [==============================] - 0s 57us/step - loss: 0.0117 - accuracy: 0.9982\n",
      "Epoch 100/100\n",
      "1649/1649 [==============================] - 0s 59us/step - loss: 0.0117 - accuracy: 0.9982\n"
     ]
    },
    {
     "data": {
      "text/plain": [
       "<keras.callbacks.callbacks.History at 0x23fc32a6ac8>"
      ]
     },
     "execution_count": 20,
     "metadata": {},
     "output_type": "execute_result"
    }
   ],
   "source": [
    "# train the neural network on training data\n",
    "classifier.fit(x_train, y_train, batch_size = 10, epochs = 100)"
   ]
  },
  {
   "cell_type": "code",
   "execution_count": 109,
   "metadata": {
    "scrolled": true
   },
   "outputs": [
    {
     "name": "stdout",
     "output_type": "stream",
     "text": [
      "1649/1649 [==============================] - 0s 19us/step\n"
     ]
    }
   ],
   "source": [
    "# evaluate loss and accuracy of neural network classifier on training data\n",
    "eval_model = classifier.evaluate(x_train, y_train)"
   ]
  },
  {
   "cell_type": "code",
   "execution_count": 107,
   "metadata": {},
   "outputs": [
    {
     "name": "stdout",
     "output_type": "stream",
     "text": [
      "Loss = 0.011457905517817628\n"
     ]
    }
   ],
   "source": [
    "print(\"Loss =\", eval_model[0])"
   ]
  },
  {
   "cell_type": "code",
   "execution_count": 108,
   "metadata": {},
   "outputs": [
    {
     "name": "stdout",
     "output_type": "stream",
     "text": [
      "Training accuracy =  0.9981806874275208\n"
     ]
    }
   ],
   "source": [
    "print(\"Training accuracy = \", eval_model[1])"
   ]
  },
  {
   "cell_type": "code",
   "execution_count": 22,
   "metadata": {},
   "outputs": [],
   "source": [
    "# run classifier on test data to predict y values\n",
    "y_pred = classifier.predict(x_test)"
   ]
  },
  {
   "cell_type": "code",
   "execution_count": 25,
   "metadata": {},
   "outputs": [
    {
     "name": "stdout",
     "output_type": "stream",
     "text": [
      "[[  5   0   0   0]\n",
      " [  0 129   0   0]\n",
      " [  0   0 260   0]\n",
      " [  0   0   0  19]]\n"
     ]
    }
   ],
   "source": [
    "# find confusion matrix for test data\n",
    "from sklearn.metrics import confusion_matrix\n",
    "cm = confusion_matrix(y_test.values.argmax(axis = 1), y_pred.argmax(axis = 1))\n",
    "print(cm)"
   ]
  },
  {
   "cell_type": "code",
   "execution_count": 78,
   "metadata": {},
   "outputs": [
    {
     "name": "stdout",
     "output_type": "stream",
     "text": [
      "Accuracy =  0.6493695441319107\n"
     ]
    }
   ],
   "source": [
    "# K-means clustering using perigee and apogee as features\n",
    "from sklearn.cluster import KMeans\n",
    "from sklearn import metrics\n",
    "km = KMeans(\n",
    "    n_clusters = 4, init = 'random',\n",
    "    n_init = 20, max_iter = 300,\n",
    "    tol = 1e-04, random_state = 0\n",
    ")\n",
    "x = dataset_final.iloc[:, [4, 5]]\n",
    "y_km = km.fit_predict(x)\n",
    "\n",
    "le = preprocessing.LabelEncoder()\n",
    "dataset_2 = dataset.apply(le.fit_transform)\n",
    "y_actual = dataset_2.iloc[:, 0]\n",
    "print('Accuracy = ', metrics.accuracy_score(y_actual, y_km))"
   ]
  },
  {
   "cell_type": "code",
   "execution_count": 106,
   "metadata": {},
   "outputs": [
    {
     "data": {
      "image/png": "[encoded data removed]",
      "text/plain": [
       "<Figure size 432x288 with 1 Axes>"
      ]
     },
     "metadata": {
      "needs_background": "light"
     },
     "output_type": "display_data"
    }
   ],
   "source": [
    "# plot K-means clustering using perigee and apogee as features\n",
    "plt.scatter(\n",
    "    x.iloc[y_km == 0, 0], x.iloc[y_km == 0, 1],\n",
    "    s=50, c='lightgreen',\n",
    "    marker='o', edgecolor='black',\n",
    "    label='GEO'\n",
    ")\n",
    "\n",
    "plt.scatter(\n",
    "    x.iloc[y_km == 1, 0], x.iloc[y_km == 1, 1],\n",
    "    s=50, c='orange',\n",
    "    marker='o', edgecolor='black',\n",
    "    label='MEO'\n",
    ")\n",
    "\n",
    "plt.scatter(\n",
    "    x.iloc[y_km == 2, 0], x.iloc[y_km == 2, 1],\n",
    "    s=50, c='lightblue',\n",
    "    marker='o', edgecolor='black',\n",
    "    label='LEO'\n",
    "\t)\n",
    "\t\n",
    "plt.scatter(\n",
    "    x.iloc[y_km == 3, 0], x.iloc[y_km == 3, 1],\n",
    "    s=50, c='fuchsia',\n",
    "    marker='o', edgecolor='black',\n",
    "    label='Elliptical'\n",
    "\t)\n",
    "\t\n",
    "plt.legend(scatterpoints=1)\n",
    "plt.grid()\n",
    "plt.xlabel(\"Scaled Perigee\")\n",
    "plt.ylabel(\"Scaled Apogee\")\n",
    "plt.show()"
   ]
  },
  {
   "cell_type": "code",
   "execution_count": null,
   "metadata": {},
   "outputs": [],
   "source": []
  }
 ],
 "metadata": {
  "kernelspec": {
   "display_name": "Python 3",
   "language": "python",
   "name": "python3"
  },
  "language_info": {
   "codemirror_mode": {
    "name": "ipython",
    "version": 3
   },
   "file_extension": ".py",
   "mimetype": "text/x-python",
   "name": "python",
   "nbconvert_exporter": "python",
   "pygments_lexer": "ipython3",
   "version": "3.7.3"
  }
 },
 "nbformat": 4,
 "nbformat_minor": 2
}
